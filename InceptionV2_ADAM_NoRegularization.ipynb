{
  "nbformat": 4,
  "nbformat_minor": 0,
  "metadata": {
    "colab": {
      "name": "InceptionV2_ADAM_NoRegularization.ipynb",
      "provenance": []
    },
    "kernelspec": {
      "name": "python3",
      "display_name": "Python 3"
    },
    "accelerator": "GPU"
  },
  "cells": [
    {
      "cell_type": "code",
      "metadata": {
        "id": "Z4bg4MJntImQ",
        "outputId": "1e656742-b979-4f5d-fb38-fc6881f8d3c6",
        "colab": {
          "base_uri": "https://localhost:8080/",
          "height": 1000
        }
      },
      "source": [
        "import tensorflow \n",
        "import tensorflow.keras\n",
        "from keras.datasets import cifar100\n",
        "from keras.callbacks import EarlyStopping, ModelCheckpoint\n",
        "import numpy as np\n",
        "from keras.layers import Conv2D,MaxPooling2D,Dense,Flatten\n",
        "from keras.activations import relu\n",
        "from keras.metrics import Precision,Recall\n",
        "from keras.models import Sequential\n",
        "from keras.utils import to_categorical\n",
        "from keras.optimizers import SGD\n",
        "from tensorflow.keras.layers import AveragePooling2D, Input, Flatten\n",
        "from tensorflow.keras.regularizers import l2\n",
        "from tensorflow.keras.layers import BatchNormalization, Activation\n",
        "from tensorflow.keras.models import Model\n",
        "from datetime import datetime\n",
        "import tensorboard\n",
        "import keras\n",
        "\n",
        "(x_train,y_train),(x_test,y_test)=cifar100.load_data()\n",
        "\n",
        "\n",
        "es= EarlyStopping(monitor='val_loss', patience=3)\n",
        "mc= ModelCheckpoint(filepath='InceptionV2_ADAM_NoRegularization.h5', monitor='val_loss', save_best_only=True)\n",
        "\n",
        "y_train=to_categorical(y_train)\n",
        "y_test=to_categorical(y_test)\n",
        "\n",
        "mean = x_train.mean()\n",
        "std= x_train.std()\n",
        "x_train=(x_train-mean)/std\n",
        "\n",
        "mean = x_test.mean()\n",
        "std= x_test.std()\n",
        "x_test=(x_test-mean)/std\n",
        "\n",
        "def module_1(x):\n",
        "\n",
        "\n",
        "  conv1_1= Conv2D(8, (1, 1), padding='same',activation='relu')(x)\n",
        "  conv1_2= Conv2D(16, (3, 3), padding='same',activation='relu')(conv1_1)\n",
        "  conv1_3= Conv2D(16, (3, 3), padding='same')(conv1_2)\n",
        "\n",
        "  conv2_1= Conv2D(16, (1, 1), padding='same',activation='relu')(x)\n",
        "  conv2_2= Conv2D(32, (3, 3), padding='same')(conv2_1)\n",
        "  \n",
        "  conv3_1= Conv2D(8, (1, 1), padding='same')(x)\n",
        "\n",
        "  maxpool4_1= MaxPooling2D(pool_size=(3,3),strides=1,padding='same')(x)\n",
        "  conv4_2= Conv2D(8, (1, 1), padding='same')(maxpool4_1)\n",
        "\n",
        "  return keras.layers.concatenate([conv1_3,conv2_2,conv3_1,conv4_2],axis=3)\n",
        "\n",
        "def module_2(x):\n",
        "\n",
        "\n",
        "  conv1_1= Conv2D(16, (1, 1), padding='same',activation='relu')(x)\n",
        "  conv1_2= Conv2D(32, (1, 3), padding='same',activation='relu')(conv1_1)\n",
        "  conv1_3= Conv2D(32, (3, 1), padding='same',activation='relu')(conv1_2)\n",
        "  conv1_4= Conv2D(32, (1, 3), padding='same',activation='relu')(conv1_3)\n",
        "  conv1_5= Conv2D(32, (3, 1), padding='same')(conv1_4)\n",
        "\n",
        "  conv2_1= Conv2D(16, (1, 1), padding='same',activation='relu')(x)\n",
        "  conv2_2= Conv2D(48, (3, 1), padding='same',activation='relu')(conv2_1)\n",
        "  conv2_3= Conv2D(48, (1, 3), padding='same')(conv2_2)\n",
        "  \n",
        "  conv3_1= Conv2D(16, (1, 1), padding='same')(x)\n",
        "\n",
        "  maxpool4_1= MaxPooling2D(pool_size=(3,3),strides=1,padding='same')(x)\n",
        "  conv4_2= Conv2D(32, (1, 1), padding='same')(maxpool4_1)\n",
        "\n",
        "  return keras.layers.concatenate([conv1_5,conv2_3,conv3_1,conv4_2])\n",
        "\n",
        "\n",
        "def module_3(x):\n",
        "\n",
        "\n",
        "  conv1_1= Conv2D(16, (1, 1), padding='same',activation='relu')(x)\n",
        "  conv1_2= Conv2D(32, (3, 3), padding='same',activation='relu')(conv1_1)\n",
        "  conv1_4= Conv2D(32, (1, 3), padding='same')(conv1_2)\n",
        "  conv1_5= Conv2D(64, (3, 1), padding='same')(conv1_2)\n",
        "\n",
        "  conv2_1= Conv2D(16, (1, 1), padding='same',activation='relu')(x)\n",
        "  conv2_2= Conv2D(64, (3, 1), padding='same')(conv2_1)\n",
        "  conv2_3= Conv2D(64, (1, 3), padding='same')(conv2_1)\n",
        "  \n",
        "  conv3_1= Conv2D(16, (1, 1), padding='same')(x)\n",
        "\n",
        "  maxpool4_1= MaxPooling2D(pool_size=(3,3),strides=1,padding='same')(x)\n",
        "  conv4_2= Conv2D(16, (1, 1), padding='same')(maxpool4_1)\n",
        "\n",
        "  return keras.layers.concatenate([conv1_4,conv1_5,conv2_2,conv2_3,conv3_1,conv4_2])\n",
        "\n",
        "def Inception_Model(input_shape): \n",
        "\n",
        "  inputs=Input(shape=[32,32,3])\n",
        "\n",
        "  conv_1 = Conv2D(32, (3, 3), padding='same',strides=2, input_shape=(32,32,3))(inputs)\n",
        "  relu_1 = Activation(relu)(conv_1)\n",
        "\n",
        "  inception1=module_1(relu_1)\n",
        "  relu_2= Activation(relu)(inception1)\n",
        "\n",
        "  inception2=module_1(relu_2)\n",
        "  relu_3= Activation(relu)(inception2)\n",
        "\n",
        "  max_pool=  MaxPooling2D(pool_size=(2,2),padding='same')(relu_3)\n",
        "\n",
        "  inception3=module_2(max_pool)\n",
        "  relu_4= Activation(relu)(inception3)\n",
        "\n",
        "  inception4=module_2(relu_4)\n",
        "  relu_5= Activation(relu)(inception4)\n",
        "\n",
        "  inception5=module_2(relu_5)\n",
        "  relu_6= Activation(relu)(inception5)\n",
        "\n",
        "  max_pool2=  MaxPooling2D(pool_size=(2,2),padding='same')(relu_6)\n",
        "\n",
        "  inception4=module_3(max_pool2)\n",
        "  relu_5= Activation(relu)(inception4)\n",
        "\n",
        "  max_pool_final=  x = MaxPooling2D(pool_size=(2,2))(relu_5)\n",
        "  flat= Flatten()(max_pool_final)\n",
        "  dense= Dense(100,activation='softmax')(flat)\n",
        "\n",
        "  model= Model( inputs=inputs, outputs =dense)\n",
        "  return model\n",
        "\n",
        "logdir=\"logs/fit/\" + datetime.now().strftime(\"%Y%m%d-%H%M%S\")\n",
        "tensorboard_callback = keras.callbacks.TensorBoard(log_dir=logdir)\n",
        "\n",
        "model = Inception_Model((32,32,3))\n",
        "\n",
        "model.compile(optimizer='adam',loss='categorical_crossentropy', metrics=['accuracy',Precision(),Recall()])\n",
        "history=model.fit(x=x_train,y=y_train,epochs=100, validation_data=(x_test,y_test), callbacks=[es,mc,tensorboard_callback])\n",
        "\n",
        "from matplotlib import pyplot as plt\n",
        "plt.plot(history.history['accuracy'])\n",
        "plt.plot(history.history['val_accuracy'])\n",
        "plt.title('model accuracy')\n",
        "plt.ylabel('accuracy')\n",
        "plt.xlabel('epoch')\n",
        "plt.legend(['train', 'validation'], loc='upper left')\n",
        "plt.show()\n",
        "# \"Loss\"\n",
        "plt.plot(history.history['loss'])\n",
        "plt.plot(history.history['val_loss'])\n",
        "plt.title('model loss')\n",
        "plt.ylabel('loss')\n",
        "plt.xlabel('epoch')\n",
        "plt.legend(['train', 'validation'], loc='upper left')\n",
        "plt.show()"
      ],
      "execution_count": 1,
      "outputs": [
        {
          "output_type": "stream",
          "text": [
            "Downloading data from https://www.cs.toronto.edu/~kriz/cifar-100-python.tar.gz\n",
            "169009152/169001437 [==============================] - 7s 0us/step\n",
            "Epoch 1/100\n",
            "   1/1563 [..............................] - ETA: 0s - loss: 4.6056 - accuracy: 0.0000e+00 - precision: 0.0000e+00 - recall: 0.0000e+00WARNING:tensorflow:From /usr/local/lib/python3.6/dist-packages/tensorflow/python/ops/summary_ops_v2.py:1277: stop (from tensorflow.python.eager.profiler) is deprecated and will be removed after 2020-07-01.\n",
            "Instructions for updating:\n",
            "use `tf.profiler.experimental.stop` instead.\n",
            "   2/1563 [..............................] - ETA: 2:03 - loss: 4.6023 - accuracy: 0.0312 - precision: 0.0000e+00 - recall: 0.0000e+00  WARNING:tensorflow:Callbacks method `on_train_batch_end` is slow compared to the batch time (batch time: 0.0320s vs `on_train_batch_end` time: 0.1248s). Check your callbacks.\n",
            "1563/1563 [==============================] - 28s 18ms/step - loss: 3.8884 - accuracy: 0.0963 - precision: 0.5607 - recall: 0.0058 - val_loss: 3.4515 - val_accuracy: 0.1726 - val_precision: 0.7067 - val_recall: 0.0159\n",
            "Epoch 2/100\n",
            "1563/1563 [==============================] - 27s 17ms/step - loss: 3.1925 - accuracy: 0.2192 - precision: 0.6507 - recall: 0.0466 - val_loss: 3.0923 - val_accuracy: 0.2448 - val_precision: 0.6821 - val_recall: 0.0603\n",
            "Epoch 3/100\n",
            "1563/1563 [==============================] - 26s 17ms/step - loss: 2.8596 - accuracy: 0.2824 - precision: 0.6919 - recall: 0.0942 - val_loss: 2.8914 - val_accuracy: 0.2829 - val_precision: 0.7100 - val_recall: 0.0918\n",
            "Epoch 4/100\n",
            "1563/1563 [==============================] - 26s 17ms/step - loss: 2.6451 - accuracy: 0.3296 - precision: 0.7032 - recall: 0.1312 - val_loss: 2.7324 - val_accuracy: 0.3167 - val_precision: 0.6777 - val_recall: 0.1407\n",
            "Epoch 5/100\n",
            "1563/1563 [==============================] - 27s 17ms/step - loss: 2.4647 - accuracy: 0.3668 - precision: 0.7172 - recall: 0.1698 - val_loss: 2.6633 - val_accuracy: 0.3405 - val_precision: 0.7042 - val_recall: 0.1681\n",
            "Epoch 6/100\n",
            "1563/1563 [==============================] - 26s 17ms/step - loss: 2.3173 - accuracy: 0.3961 - precision: 0.7302 - recall: 0.2035 - val_loss: 2.6654 - val_accuracy: 0.3413 - val_precision: 0.6683 - val_recall: 0.1880\n",
            "Epoch 7/100\n",
            "1563/1563 [==============================] - 26s 17ms/step - loss: 2.1775 - accuracy: 0.4263 - precision: 0.7383 - recall: 0.2371 - val_loss: 2.5791 - val_accuracy: 0.3546 - val_precision: 0.6911 - val_recall: 0.1846\n",
            "Epoch 8/100\n",
            "1563/1563 [==============================] - 26s 17ms/step - loss: 2.0665 - accuracy: 0.4522 - precision: 0.7453 - recall: 0.2676 - val_loss: 2.5640 - val_accuracy: 0.3597 - val_precision: 0.6657 - val_recall: 0.2065\n",
            "Epoch 9/100\n",
            "1563/1563 [==============================] - 26s 17ms/step - loss: 1.9589 - accuracy: 0.4763 - precision: 0.7487 - recall: 0.2964 - val_loss: 2.6150 - val_accuracy: 0.3651 - val_precision: 0.6398 - val_recall: 0.2378\n",
            "Epoch 10/100\n",
            "1563/1563 [==============================] - 26s 17ms/step - loss: 1.8771 - accuracy: 0.4922 - precision: 0.7514 - recall: 0.3179 - val_loss: 2.5913 - val_accuracy: 0.3716 - val_precision: 0.6336 - val_recall: 0.2490\n",
            "Epoch 11/100\n",
            "1563/1563 [==============================] - 27s 17ms/step - loss: 1.7847 - accuracy: 0.5152 - precision: 0.7587 - recall: 0.3465 - val_loss: 2.6704 - val_accuracy: 0.3673 - val_precision: 0.6100 - val_recall: 0.2449\n"
          ],
          "name": "stdout"
        },
        {
          "output_type": "display_data",
          "data": {
            "image/png": "[encoded data removed]",
            "text/plain": [
              "<Figure size 432x288 with 1 Axes>"
            ]
          },
          "metadata": {
            "tags": [],
            "needs_background": "light"
          }
        },
        {
          "output_type": "display_data",
          "data": {
            "image/png": "[encoded data removed]",
            "text/plain": [
              "<Figure size 432x288 with 1 Axes>"
            ]
          },
          "metadata": {
            "tags": [],
            "needs_background": "light"
          }
        }
      ]
    },
    {
      "cell_type": "code",
      "metadata": {
        "id": "-3gNksXXtRym",
        "outputId": "1be6ca6c-63b1-474e-d658-37b8c03a40a2",
        "colab": {
          "base_uri": "https://localhost:8080/",
          "height": 85
        }
      },
      "source": [
        "import keras \n",
        "\n",
        "(x_train,y_train),(x_test,y_test)=cifar100.load_data()\n",
        "y_test=to_categorical(y_test)\n",
        "\n",
        "mean = x_test.mean()\n",
        "std= x_test.std()\n",
        "x_test=(x_test-mean)/std\n",
        "\n",
        "\n",
        "best_model= keras.models.load_model('InceptionV2_ADAM_NoRegularization.h5')\n",
        "_, acc,precision,recall = best_model.evaluate(x_test, y_test)\n",
        "\n",
        "print(\"Accuracy: \"+str(acc*100)+\"%\")\n",
        "print(\"Precision: \"+str(precision*100)+\"%\")\n",
        "print(\"Recall: \"+str(recall*100)+\"%\")"
      ],
      "execution_count": 2,
      "outputs": [
        {
          "output_type": "stream",
          "text": [
            "313/313 [==============================] - 2s 6ms/step - loss: 2.5640 - accuracy: 0.3597 - precision: 0.6657 - recall: 0.2065\n",
            "Accuracy: 35.96999943256378%\n",
            "Precision: 66.56995415687561%\n",
            "Recall: 20.649999380111694%\n"
          ],
          "name": "stdout"
        }
      ]
    },
    {
      "cell_type": "code",
      "metadata": {
        "id": "AT5BFCkzvgkb"
      },
      "source": [
        ""
      ],
      "execution_count": null,
      "outputs": []
    }
  ]
}